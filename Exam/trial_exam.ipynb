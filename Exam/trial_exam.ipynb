{
  "nbformat": 4,
  "nbformat_minor": 0,
  "metadata": {
    "colab": {
      "provenance": [],
      "authorship_tag": "ABX9TyOo/ZXuosEcpYwSPCdG+GJ/",
      "include_colab_link": true
    },
    "kernelspec": {
      "name": "python3",
      "display_name": "Python 3"
    },
    "language_info": {
      "name": "python"
    }
  },
  "cells": [
    {
      "cell_type": "markdown",
      "metadata": {
        "id": "view-in-github",
        "colab_type": "text"
      },
      "source": [
        "<a href=\"https://colab.research.google.com/github/tutsilianna/Introduction_to_ML_and_Advanced_ML_Python/blob/main/Exam/trial_exam.ipynb\" target=\"_parent\"><img src=\"https://colab.research.google.com/assets/colab-badge.svg\" alt=\"Open In Colab\"/></a>"
      ]
    },
    {
      "cell_type": "markdown",
      "source": [
        "# Task 3"
      ],
      "metadata": {
        "id": "XaltqXLu7EML"
      }
    },
    {
      "cell_type": "code",
      "execution_count": 1,
      "metadata": {
        "colab": {
          "base_uri": "https://localhost:8080/",
          "height": 206
        },
        "id": "OxMg3Elz48jR",
        "outputId": "fd05f400-d90a-40bd-a9df-0cbf1c87bdd4"
      },
      "outputs": [
        {
          "output_type": "execute_result",
          "data": {
            "text/plain": [
              "          MIP      STDIP      EKIP       SIP        MC       STDC        EKC  \\\n",
              "0  140.562500  55.683782 -0.234571 -0.699648  3.199833  19.110426   7.975532   \n",
              "1  102.507812  58.882430  0.465318 -0.515088  1.677258  14.860146  10.576487   \n",
              "2  103.015625  39.341649  0.323328  1.051164  3.121237  21.744669   7.735822   \n",
              "3  136.750000  57.178449 -0.068415 -0.636238  3.642977  20.959280   6.896499   \n",
              "4   88.726562  40.672225  0.600866  1.123492  1.178930  11.468720  14.269573   \n",
              "\n",
              "           SC  TG  \n",
              "0   74.242225   0  \n",
              "1  127.393580   0  \n",
              "2   63.171909   0  \n",
              "3   53.593661   0  \n",
              "4  252.567306   0  "
            ],
            "text/html": [
              "\n",
              "  <div id=\"df-361d720d-8be5-4fdb-b4c1-e6644c35e32f\" class=\"colab-df-container\">\n",
              "    <div>\n",
              "<style scoped>\n",
              "    .dataframe tbody tr th:only-of-type {\n",
              "        vertical-align: middle;\n",
              "    }\n",
              "\n",
              "    .dataframe tbody tr th {\n",
              "        vertical-align: top;\n",
              "    }\n",
              "\n",
              "    .dataframe thead th {\n",
              "        text-align: right;\n",
              "    }\n",
              "</style>\n",
              "<table border=\"1\" class=\"dataframe\">\n",
              "  <thead>\n",
              "    <tr style=\"text-align: right;\">\n",
              "      <th></th>\n",
              "      <th>MIP</th>\n",
              "      <th>STDIP</th>\n",
              "      <th>EKIP</th>\n",
              "      <th>SIP</th>\n",
              "      <th>MC</th>\n",
              "      <th>STDC</th>\n",
              "      <th>EKC</th>\n",
              "      <th>SC</th>\n",
              "      <th>TG</th>\n",
              "    </tr>\n",
              "  </thead>\n",
              "  <tbody>\n",
              "    <tr>\n",
              "      <th>0</th>\n",
              "      <td>140.562500</td>\n",
              "      <td>55.683782</td>\n",
              "      <td>-0.234571</td>\n",
              "      <td>-0.699648</td>\n",
              "      <td>3.199833</td>\n",
              "      <td>19.110426</td>\n",
              "      <td>7.975532</td>\n",
              "      <td>74.242225</td>\n",
              "      <td>0</td>\n",
              "    </tr>\n",
              "    <tr>\n",
              "      <th>1</th>\n",
              "      <td>102.507812</td>\n",
              "      <td>58.882430</td>\n",
              "      <td>0.465318</td>\n",
              "      <td>-0.515088</td>\n",
              "      <td>1.677258</td>\n",
              "      <td>14.860146</td>\n",
              "      <td>10.576487</td>\n",
              "      <td>127.393580</td>\n",
              "      <td>0</td>\n",
              "    </tr>\n",
              "    <tr>\n",
              "      <th>2</th>\n",
              "      <td>103.015625</td>\n",
              "      <td>39.341649</td>\n",
              "      <td>0.323328</td>\n",
              "      <td>1.051164</td>\n",
              "      <td>3.121237</td>\n",
              "      <td>21.744669</td>\n",
              "      <td>7.735822</td>\n",
              "      <td>63.171909</td>\n",
              "      <td>0</td>\n",
              "    </tr>\n",
              "    <tr>\n",
              "      <th>3</th>\n",
              "      <td>136.750000</td>\n",
              "      <td>57.178449</td>\n",
              "      <td>-0.068415</td>\n",
              "      <td>-0.636238</td>\n",
              "      <td>3.642977</td>\n",
              "      <td>20.959280</td>\n",
              "      <td>6.896499</td>\n",
              "      <td>53.593661</td>\n",
              "      <td>0</td>\n",
              "    </tr>\n",
              "    <tr>\n",
              "      <th>4</th>\n",
              "      <td>88.726562</td>\n",
              "      <td>40.672225</td>\n",
              "      <td>0.600866</td>\n",
              "      <td>1.123492</td>\n",
              "      <td>1.178930</td>\n",
              "      <td>11.468720</td>\n",
              "      <td>14.269573</td>\n",
              "      <td>252.567306</td>\n",
              "      <td>0</td>\n",
              "    </tr>\n",
              "  </tbody>\n",
              "</table>\n",
              "</div>\n",
              "    <div class=\"colab-df-buttons\">\n",
              "\n",
              "  <div class=\"colab-df-container\">\n",
              "    <button class=\"colab-df-convert\" onclick=\"convertToInteractive('df-361d720d-8be5-4fdb-b4c1-e6644c35e32f')\"\n",
              "            title=\"Convert this dataframe to an interactive table.\"\n",
              "            style=\"display:none;\">\n",
              "\n",
              "  <svg xmlns=\"http://www.w3.org/2000/svg\" height=\"24px\" viewBox=\"0 -960 960 960\">\n",
              "    <path d=\"M120-120v-720h720v720H120Zm60-500h600v-160H180v160Zm220 220h160v-160H400v160Zm0 220h160v-160H400v160ZM180-400h160v-160H180v160Zm440 0h160v-160H620v160ZM180-180h160v-160H180v160Zm440 0h160v-160H620v160Z\"/>\n",
              "  </svg>\n",
              "    </button>\n",
              "\n",
              "  <style>\n",
              "    .colab-df-container {\n",
              "      display:flex;\n",
              "      gap: 12px;\n",
              "    }\n",
              "\n",
              "    .colab-df-convert {\n",
              "      background-color: #E8F0FE;\n",
              "      border: none;\n",
              "      border-radius: 50%;\n",
              "      cursor: pointer;\n",
              "      display: none;\n",
              "      fill: #1967D2;\n",
              "      height: 32px;\n",
              "      padding: 0 0 0 0;\n",
              "      width: 32px;\n",
              "    }\n",
              "\n",
              "    .colab-df-convert:hover {\n",
              "      background-color: #E2EBFA;\n",
              "      box-shadow: 0px 1px 2px rgba(60, 64, 67, 0.3), 0px 1px 3px 1px rgba(60, 64, 67, 0.15);\n",
              "      fill: #174EA6;\n",
              "    }\n",
              "\n",
              "    .colab-df-buttons div {\n",
              "      margin-bottom: 4px;\n",
              "    }\n",
              "\n",
              "    [theme=dark] .colab-df-convert {\n",
              "      background-color: #3B4455;\n",
              "      fill: #D2E3FC;\n",
              "    }\n",
              "\n",
              "    [theme=dark] .colab-df-convert:hover {\n",
              "      background-color: #434B5C;\n",
              "      box-shadow: 0px 1px 3px 1px rgba(0, 0, 0, 0.15);\n",
              "      filter: drop-shadow(0px 1px 2px rgba(0, 0, 0, 0.3));\n",
              "      fill: #FFFFFF;\n",
              "    }\n",
              "  </style>\n",
              "\n",
              "    <script>\n",
              "      const buttonEl =\n",
              "        document.querySelector('#df-361d720d-8be5-4fdb-b4c1-e6644c35e32f button.colab-df-convert');\n",
              "      buttonEl.style.display =\n",
              "        google.colab.kernel.accessAllowed ? 'block' : 'none';\n",
              "\n",
              "      async function convertToInteractive(key) {\n",
              "        const element = document.querySelector('#df-361d720d-8be5-4fdb-b4c1-e6644c35e32f');\n",
              "        const dataTable =\n",
              "          await google.colab.kernel.invokeFunction('convertToInteractive',\n",
              "                                                    [key], {});\n",
              "        if (!dataTable) return;\n",
              "\n",
              "        const docLinkHtml = 'Like what you see? Visit the ' +\n",
              "          '<a target=\"_blank\" href=https://colab.research.google.com/notebooks/data_table.ipynb>data table notebook</a>'\n",
              "          + ' to learn more about interactive tables.';\n",
              "        element.innerHTML = '';\n",
              "        dataTable['output_type'] = 'display_data';\n",
              "        await google.colab.output.renderOutput(dataTable, element);\n",
              "        const docLink = document.createElement('div');\n",
              "        docLink.innerHTML = docLinkHtml;\n",
              "        element.appendChild(docLink);\n",
              "      }\n",
              "    </script>\n",
              "  </div>\n",
              "\n",
              "\n",
              "<div id=\"df-c36ca855-03ff-4d02-9416-4c54e304d053\">\n",
              "  <button class=\"colab-df-quickchart\" onclick=\"quickchart('df-c36ca855-03ff-4d02-9416-4c54e304d053')\"\n",
              "            title=\"Suggest charts\"\n",
              "            style=\"display:none;\">\n",
              "\n",
              "<svg xmlns=\"http://www.w3.org/2000/svg\" height=\"24px\"viewBox=\"0 0 24 24\"\n",
              "     width=\"24px\">\n",
              "    <g>\n",
              "        <path d=\"M19 3H5c-1.1 0-2 .9-2 2v14c0 1.1.9 2 2 2h14c1.1 0 2-.9 2-2V5c0-1.1-.9-2-2-2zM9 17H7v-7h2v7zm4 0h-2V7h2v10zm4 0h-2v-4h2v4z\"/>\n",
              "    </g>\n",
              "</svg>\n",
              "  </button>\n",
              "\n",
              "<style>\n",
              "  .colab-df-quickchart {\n",
              "      --bg-color: #E8F0FE;\n",
              "      --fill-color: #1967D2;\n",
              "      --hover-bg-color: #E2EBFA;\n",
              "      --hover-fill-color: #174EA6;\n",
              "      --disabled-fill-color: #AAA;\n",
              "      --disabled-bg-color: #DDD;\n",
              "  }\n",
              "\n",
              "  [theme=dark] .colab-df-quickchart {\n",
              "      --bg-color: #3B4455;\n",
              "      --fill-color: #D2E3FC;\n",
              "      --hover-bg-color: #434B5C;\n",
              "      --hover-fill-color: #FFFFFF;\n",
              "      --disabled-bg-color: #3B4455;\n",
              "      --disabled-fill-color: #666;\n",
              "  }\n",
              "\n",
              "  .colab-df-quickchart {\n",
              "    background-color: var(--bg-color);\n",
              "    border: none;\n",
              "    border-radius: 50%;\n",
              "    cursor: pointer;\n",
              "    display: none;\n",
              "    fill: var(--fill-color);\n",
              "    height: 32px;\n",
              "    padding: 0;\n",
              "    width: 32px;\n",
              "  }\n",
              "\n",
              "  .colab-df-quickchart:hover {\n",
              "    background-color: var(--hover-bg-color);\n",
              "    box-shadow: 0 1px 2px rgba(60, 64, 67, 0.3), 0 1px 3px 1px rgba(60, 64, 67, 0.15);\n",
              "    fill: var(--button-hover-fill-color);\n",
              "  }\n",
              "\n",
              "  .colab-df-quickchart-complete:disabled,\n",
              "  .colab-df-quickchart-complete:disabled:hover {\n",
              "    background-color: var(--disabled-bg-color);\n",
              "    fill: var(--disabled-fill-color);\n",
              "    box-shadow: none;\n",
              "  }\n",
              "\n",
              "  .colab-df-spinner {\n",
              "    border: 2px solid var(--fill-color);\n",
              "    border-color: transparent;\n",
              "    border-bottom-color: var(--fill-color);\n",
              "    animation:\n",
              "      spin 1s steps(1) infinite;\n",
              "  }\n",
              "\n",
              "  @keyframes spin {\n",
              "    0% {\n",
              "      border-color: transparent;\n",
              "      border-bottom-color: var(--fill-color);\n",
              "      border-left-color: var(--fill-color);\n",
              "    }\n",
              "    20% {\n",
              "      border-color: transparent;\n",
              "      border-left-color: var(--fill-color);\n",
              "      border-top-color: var(--fill-color);\n",
              "    }\n",
              "    30% {\n",
              "      border-color: transparent;\n",
              "      border-left-color: var(--fill-color);\n",
              "      border-top-color: var(--fill-color);\n",
              "      border-right-color: var(--fill-color);\n",
              "    }\n",
              "    40% {\n",
              "      border-color: transparent;\n",
              "      border-right-color: var(--fill-color);\n",
              "      border-top-color: var(--fill-color);\n",
              "    }\n",
              "    60% {\n",
              "      border-color: transparent;\n",
              "      border-right-color: var(--fill-color);\n",
              "    }\n",
              "    80% {\n",
              "      border-color: transparent;\n",
              "      border-right-color: var(--fill-color);\n",
              "      border-bottom-color: var(--fill-color);\n",
              "    }\n",
              "    90% {\n",
              "      border-color: transparent;\n",
              "      border-bottom-color: var(--fill-color);\n",
              "    }\n",
              "  }\n",
              "</style>\n",
              "\n",
              "  <script>\n",
              "    async function quickchart(key) {\n",
              "      const quickchartButtonEl =\n",
              "        document.querySelector('#' + key + ' button');\n",
              "      quickchartButtonEl.disabled = true;  // To prevent multiple clicks.\n",
              "      quickchartButtonEl.classList.add('colab-df-spinner');\n",
              "      try {\n",
              "        const charts = await google.colab.kernel.invokeFunction(\n",
              "            'suggestCharts', [key], {});\n",
              "      } catch (error) {\n",
              "        console.error('Error during call to suggestCharts:', error);\n",
              "      }\n",
              "      quickchartButtonEl.classList.remove('colab-df-spinner');\n",
              "      quickchartButtonEl.classList.add('colab-df-quickchart-complete');\n",
              "    }\n",
              "    (() => {\n",
              "      let quickchartButtonEl =\n",
              "        document.querySelector('#df-c36ca855-03ff-4d02-9416-4c54e304d053 button');\n",
              "      quickchartButtonEl.style.display =\n",
              "        google.colab.kernel.accessAllowed ? 'block' : 'none';\n",
              "    })();\n",
              "  </script>\n",
              "</div>\n",
              "    </div>\n",
              "  </div>\n"
            ]
          },
          "metadata": {},
          "execution_count": 1
        }
      ],
      "source": [
        "import pandas as pd\n",
        "\n",
        "data = pd.read_csv('/content/asset-v1_ITMOUniversity+INTROMLADVML+fall_2023_ITMO_mag+type@asset+block@pulsar_stars_new.csv')\n",
        "\n",
        "data.head()"
      ]
    },
    {
      "cell_type": "markdown",
      "source": [
        "**Prepare the data for training the algorithms:**\n",
        "\n",
        "1. Form a sample for further work as follows: select only those objects that have `MIP` ∈ [10, 100]\n",
        "\n",
        "Enter the number of rows in the resulting sample:"
      ],
      "metadata": {
        "id": "bxOTXWWu55Tx"
      }
    },
    {
      "cell_type": "code",
      "source": [],
      "metadata": {
        "id": "Y-ZVfIH46GIa"
      },
      "execution_count": null,
      "outputs": []
    },
    {
      "cell_type": "markdown",
      "source": [
        "Determine the sample mean for the column `MIP`:"
      ],
      "metadata": {
        "id": "eHI6HgQv6ASQ"
      }
    },
    {
      "cell_type": "code",
      "source": [],
      "metadata": {
        "id": "DCvfQVxl6GwQ"
      },
      "execution_count": null,
      "outputs": []
    },
    {
      "cell_type": "markdown",
      "source": [
        "Determine the minimum value from the column `MIP`:"
      ],
      "metadata": {
        "id": "CAiqkJZb6JH7"
      }
    },
    {
      "cell_type": "code",
      "source": [],
      "metadata": {
        "id": "YFy88pvb6KRL"
      },
      "execution_count": null,
      "outputs": []
    },
    {
      "cell_type": "markdown",
      "source": [
        "2. Sort the data in the `SIP` column in ascending order, and then split the dataset into training and test samples using `train_test_split()` in the ratio `80:20` with the parameter `random_state = 33`. Use stratification by the target feature.\n",
        "\n",
        "Determine the maximal value of the column `STDC` from the training sample:"
      ],
      "metadata": {
        "id": "PfhDCKBV6N1d"
      }
    },
    {
      "cell_type": "code",
      "source": [],
      "metadata": {
        "id": "qRxX2xQB6fCw"
      },
      "execution_count": null,
      "outputs": []
    },
    {
      "cell_type": "markdown",
      "source": [
        "3. Perform the linear normalization transformation for the training dataset and apply it to the test data.\n",
        "\n",
        "Determine the sample mean for column `STDIP` from the training sample (after normalization):"
      ],
      "metadata": {
        "id": "E1gj0_8i6fLG"
      }
    },
    {
      "cell_type": "code",
      "source": [],
      "metadata": {
        "id": "O8DMr1hF6pOX"
      },
      "execution_count": null,
      "outputs": []
    },
    {
      "cell_type": "markdown",
      "source": [
        "**Use the data obtained and train models**\n",
        "\n",
        "Train the `LogisticRegression()` model on training dataset using all default parameters. Evaluate the model on test dataset.\n",
        "\n",
        "Make a confusion matrix. Enter a value for True Positive (TP):"
      ],
      "metadata": {
        "id": "kFUiu8uY6pWT"
      }
    },
    {
      "cell_type": "code",
      "source": [],
      "metadata": {
        "id": "baeNna4i6wBv"
      },
      "execution_count": null,
      "outputs": []
    },
    {
      "cell_type": "markdown",
      "source": [
        "Compute `f1 score` for the test dataset."
      ],
      "metadata": {
        "id": "eQ8TJkG86wIm"
      }
    },
    {
      "cell_type": "code",
      "source": [],
      "metadata": {
        "id": "CCzmhqQ66ynx"
      },
      "execution_count": null,
      "outputs": []
    },
    {
      "cell_type": "markdown",
      "source": [
        "Train the `KNeighborsClassifier(n_neighbors=3)` model on training dataset using all default parameters. Evaluate the model on test dataset.\n",
        "\n",
        "Make a confusion matrix. Enter a value for True Positive (TP):"
      ],
      "metadata": {
        "id": "5rFjS19c6yx-"
      }
    },
    {
      "cell_type": "code",
      "source": [],
      "metadata": {
        "id": "vEvXIwQd68mc"
      },
      "execution_count": null,
      "outputs": []
    },
    {
      "cell_type": "markdown",
      "source": [
        "Compute `f1 score` for the test dataset."
      ],
      "metadata": {
        "id": "oiq-L9bu6_vy"
      }
    },
    {
      "cell_type": "code",
      "source": [],
      "metadata": {
        "id": "CBaYscQK6_vz"
      },
      "execution_count": null,
      "outputs": []
    },
    {
      "cell_type": "markdown",
      "source": [
        "# Task 4"
      ],
      "metadata": {
        "id": "ZSlcl2sA7Kdj"
      }
    },
    {
      "cell_type": "markdown",
      "source": [
        "[The provided dataset](https://drive.google.com/file/d/1_sYAHWRBnZe5hftLGJWlEjW0xB4EUeEt/view?usp=sharing) contains information on 60000 handwritten numeral writing patterns and class labels for training. [The following dataset](https://drive.google.com/file/d/1nwOCmnIx1eT-U-Vs9z2bsfj9G1olv7f6/view?usp=sharing) contains 10,000 samples and labels for testing. Each row consists of 785 values: the first value (label column) is the label (number from 0 to 9), and the remaining 784 values are pixel values (numbers from 0 to 255). [The data is also available on kaggle.](https://www.kaggle.com/datasets/oddrationale/mnist-in-csv)"
      ],
      "metadata": {
        "id": "W8FV_1OX7X5A"
      }
    },
    {
      "cell_type": "markdown",
      "source": [
        "1. Data preparation\n",
        "\n",
        "a) From the training and test datasets, select images belonging to class 0 and 1.\n",
        "\n",
        "b) Use the principal component analysis `PCA()` with the parameter `svd_solver='full'` to reduce the dimensionality of the resulting datasets. Determine the minimum number of principal components  to use so that the explained variance ratio exceeds `0.9` (is strictly greater than the specified value) on the training dataset.\n",
        "\n",
        "Enter the number of principal components `M`:"
      ],
      "metadata": {
        "id": "Ec0q_rCY72NE"
      }
    },
    {
      "cell_type": "code",
      "source": [],
      "metadata": {
        "id": "ggjQyBT08DDx"
      },
      "execution_count": null,
      "outputs": []
    },
    {
      "cell_type": "markdown",
      "source": [
        "c) Find the scores that meet the found `M` principal components for the training and test datasets.\n",
        "\n",
        "Enter the coordinate relative to 1st principal component for 1st image in the training dataset:"
      ],
      "metadata": {
        "id": "GxEFUm5j8DX5"
      }
    },
    {
      "cell_type": "code",
      "source": [],
      "metadata": {
        "id": "rRJzEY9H8L_1"
      },
      "execution_count": null,
      "outputs": []
    },
    {
      "cell_type": "markdown",
      "source": [
        "2. Model training\n",
        "\n",
        "Use the data (two classes and reduced dimensionality) to train the models below.\n",
        "\n",
        "Train `sklearn.ensemble.GradientBoostingClassifier` model on test dataset with the following parameters: `n_estimators=500, learning_rate=0.8, random_state=23, max_depth=2`.\n",
        "\n",
        "Build `classification_report` and the confusion matrix for the resulting model on test dataset.\n",
        "\n",
        "Enter the model accuracy value:"
      ],
      "metadata": {
        "id": "mdO6yApB8MHc"
      }
    },
    {
      "cell_type": "code",
      "source": [],
      "metadata": {
        "id": "iM7Qr28S8XU4"
      },
      "execution_count": null,
      "outputs": []
    },
    {
      "cell_type": "markdown",
      "source": [
        "Make an confusion matrix. Determine tp:"
      ],
      "metadata": {
        "id": "3b3gLR7s8Xbr"
      }
    },
    {
      "cell_type": "code",
      "source": [],
      "metadata": {
        "id": "EQMrfo6Z8YQr"
      },
      "execution_count": null,
      "outputs": []
    }
  ]
}