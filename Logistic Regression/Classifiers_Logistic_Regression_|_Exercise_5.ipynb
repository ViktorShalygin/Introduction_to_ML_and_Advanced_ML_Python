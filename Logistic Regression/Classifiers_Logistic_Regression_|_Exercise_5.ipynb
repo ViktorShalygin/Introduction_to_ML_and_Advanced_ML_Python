{
  "nbformat": 4,
  "nbformat_minor": 0,
  "metadata": {
    "colab": {
      "provenance": [],
      "authorship_tag": "ABX9TyO+OXB62HSQUpwmb8udcKHX",
      "include_colab_link": true
    },
    "kernelspec": {
      "name": "python3",
      "display_name": "Python 3"
    },
    "language_info": {
      "name": "python"
    }
  },
  "cells": [
    {
      "cell_type": "markdown",
      "metadata": {
        "id": "view-in-github",
        "colab_type": "text"
      },
      "source": [
        "<a href=\"https://colab.research.google.com/github/tutsilianna/Introduction_to_ML_and_Advanced_ML_Python/blob/main/Logistic%20Regression/Classifiers_Logistic_Regression_%7C_Exercise_5.ipynb\" target=\"_parent\"><img src=\"https://colab.research.google.com/assets/colab-badge.svg\" alt=\"Open In Colab\"/></a>"
      ]
    },
    {
      "cell_type": "markdown",
      "source": [
        "# Task\n",
        "\n",
        "In tasks, use the implementation of logistic regression from the sklearn library:\n",
        "\n",
        "`from sklearn.linear_model import LogisticRegression`\n",
        "\n",
        "When training, use the following parameters: `random_state = 2019`, `solver = 'lbfgs'`:\n",
        "\n",
        "`LogisticRegression(random_state = 2019, solver = 'lbfgs').fit(X, y)`\n",
        "\n",
        "[Description of the implementation of logistic regression from the sklearn library.](https://scikit-learn.org/stable/modules/generated/sklearn.linear_model.LogisticRegression.html)"
      ],
      "metadata": {
        "id": "CrjAwXU7GO8j"
      }
    },
    {
      "cell_type": "markdown",
      "metadata": {
        "id": "Fsaq3T7JS9Ox"
      },
      "source": [
        "# Dataset description"
      ]
    },
    {
      "cell_type": "markdown",
      "metadata": {
        "id": "ekwIM8kmTAx5"
      },
      "source": [
        "[The provided dataset](https://drive.google.com/file/d/1qTELQc2Nvl8gx_PRWhuuo22eskHL2za2/view?usp=sharing) contains information about the passengers of the Titanic, which sank on the night of April 15, 1912. A number of passengers were rescued due to many different factors, including their gender, age, which deck their cabin was on, social status, etc.\n",
        "\n",
        "The dataset consists of various features that describe information about the passengers. Each row of the table is an individual passenger, with all the information about that passenger contained in its row.\n",
        "\n",
        "Dataset description:\n",
        "- **Survived** (target): whether passanger survived or not (0 = No, 1 = Yes);\n",
        "- **Pclass**: ticket class (1 = 1st, 2 = 2nd, 3 = 3rd);\n",
        "- **Sex**: gender (female или male)\n",
        "- **Age**: age in years\n",
        "- **SibSp**: no. of siblings/spouses aboard the Titanic\n",
        "- **Parch**: no. of parents/children aboard the Titanic\n",
        "- **Ticket**: ticket number\n",
        "- **Fare**: passenger fare\n",
        "- **Cabin**: cabin number\n",
        "- **Embarked**: port of embarkation: (C = Cherbourg, Q = Queenstown, S = Southampton).\n",
        "\n",
        "We need to solve the classification problem and learn to predict the target feature **Survived** (whether the passenger will survive) from the corresponding non-target features.\n"
      ]
    },
    {
      "cell_type": "markdown",
      "metadata": {
        "id": "SjI-Ub1GYbKX"
      },
      "source": [
        "# Data preparation and exploratory analysis"
      ]
    },
    {
      "cell_type": "code",
      "execution_count": 3,
      "metadata": {
        "id": "a_MzT3cKTuR9"
      },
      "outputs": [],
      "source": [
        "import numpy as np\n",
        "import pandas as pd\n",
        "import matplotlib.pyplot as plt\n",
        "import seaborn as sns\n",
        "from sklearn.linear_model import LogisticRegression\n",
        "from sklearn.metrics import f1_score\n",
        "from sklearn.metrics import classification_report"
      ]
    },
    {
      "cell_type": "code",
      "execution_count": 1,
      "metadata": {
        "colab": {
          "base_uri": "https://localhost:8080/"
        },
        "id": "5lyK-wPGFydz",
        "outputId": "2ed34caf-9cf3-4714-9786-a95b986391f2"
      },
      "outputs": [
        {
          "output_type": "stream",
          "name": "stdout",
          "text": [
            "Mounted at /content/drive\n"
          ]
        }
      ],
      "source": [
        "from google.colab import drive\n",
        "drive.mount('/content/drive')"
      ]
    },
    {
      "cell_type": "code",
      "source": [
        "data = pd.read_csv('/content/drive/MyDrive/itmo|AI_cources/titanic_train.csv', encoding = 'utf-8', delimiter=',')"
      ],
      "metadata": {
        "id": "kW1Nj8yIGP3b"
      },
      "execution_count": 4,
      "outputs": []
    },
    {
      "cell_type": "code",
      "source": [
        "data.head()"
      ],
      "metadata": {
        "colab": {
          "base_uri": "https://localhost:8080/",
          "height": 206
        },
        "id": "KkEVpfiMHuV0",
        "outputId": "3323fffe-29d9-42e8-b9b6-5f577e4ce28e"
      },
      "execution_count": 5,
      "outputs": [
        {
          "output_type": "execute_result",
          "data": {
            "text/plain": [
              "   pclass  survived                                             name     sex  \\\n",
              "0       3         1                               Smyth, Miss. Julia  female   \n",
              "1       3         1                         Glynn, Miss. Mary Agatha  female   \n",
              "2       3         1  Whabee, Mrs. George Joseph (Shawneene Abi-Saab)  female   \n",
              "3       3         0                                  Vovk, Mr. Janko    male   \n",
              "4       3         0                        de Pelsmaeker, Mr. Alfons    male   \n",
              "\n",
              "    age  sibsp  parch  ticket    fare cabin embarked  \\\n",
              "0   NaN      0      0  335432  7.7333   NaN        Q   \n",
              "1   NaN      0      0  335677  7.7500   NaN        Q   \n",
              "2  38.0      0      0    2688  7.2292   NaN        C   \n",
              "3  22.0      0      0  349252  7.8958   NaN        S   \n",
              "4  16.0      0      0  345778  9.5000   NaN        S   \n",
              "\n",
              "                          home.dest  \n",
              "0                               NaN  \n",
              "1  Co Clare, Ireland Washington, DC  \n",
              "2                               NaN  \n",
              "3                               NaN  \n",
              "4                               NaN  "
            ],
            "text/html": [
              "\n",
              "  <div id=\"df-d5d1f6b2-4bd0-4f99-af5f-05073ca41033\" class=\"colab-df-container\">\n",
              "    <div>\n",
              "<style scoped>\n",
              "    .dataframe tbody tr th:only-of-type {\n",
              "        vertical-align: middle;\n",
              "    }\n",
              "\n",
              "    .dataframe tbody tr th {\n",
              "        vertical-align: top;\n",
              "    }\n",
              "\n",
              "    .dataframe thead th {\n",
              "        text-align: right;\n",
              "    }\n",
              "</style>\n",
              "<table border=\"1\" class=\"dataframe\">\n",
              "  <thead>\n",
              "    <tr style=\"text-align: right;\">\n",
              "      <th></th>\n",
              "      <th>pclass</th>\n",
              "      <th>survived</th>\n",
              "      <th>name</th>\n",
              "      <th>sex</th>\n",
              "      <th>age</th>\n",
              "      <th>sibsp</th>\n",
              "      <th>parch</th>\n",
              "      <th>ticket</th>\n",
              "      <th>fare</th>\n",
              "      <th>cabin</th>\n",
              "      <th>embarked</th>\n",
              "      <th>home.dest</th>\n",
              "    </tr>\n",
              "  </thead>\n",
              "  <tbody>\n",
              "    <tr>\n",
              "      <th>0</th>\n",
              "      <td>3</td>\n",
              "      <td>1</td>\n",
              "      <td>Smyth, Miss. Julia</td>\n",
              "      <td>female</td>\n",
              "      <td>NaN</td>\n",
              "      <td>0</td>\n",
              "      <td>0</td>\n",
              "      <td>335432</td>\n",
              "      <td>7.7333</td>\n",
              "      <td>NaN</td>\n",
              "      <td>Q</td>\n",
              "      <td>NaN</td>\n",
              "    </tr>\n",
              "    <tr>\n",
              "      <th>1</th>\n",
              "      <td>3</td>\n",
              "      <td>1</td>\n",
              "      <td>Glynn, Miss. Mary Agatha</td>\n",
              "      <td>female</td>\n",
              "      <td>NaN</td>\n",
              "      <td>0</td>\n",
              "      <td>0</td>\n",
              "      <td>335677</td>\n",
              "      <td>7.7500</td>\n",
              "      <td>NaN</td>\n",
              "      <td>Q</td>\n",
              "      <td>Co Clare, Ireland Washington, DC</td>\n",
              "    </tr>\n",
              "    <tr>\n",
              "      <th>2</th>\n",
              "      <td>3</td>\n",
              "      <td>1</td>\n",
              "      <td>Whabee, Mrs. George Joseph (Shawneene Abi-Saab)</td>\n",
              "      <td>female</td>\n",
              "      <td>38.0</td>\n",
              "      <td>0</td>\n",
              "      <td>0</td>\n",
              "      <td>2688</td>\n",
              "      <td>7.2292</td>\n",
              "      <td>NaN</td>\n",
              "      <td>C</td>\n",
              "      <td>NaN</td>\n",
              "    </tr>\n",
              "    <tr>\n",
              "      <th>3</th>\n",
              "      <td>3</td>\n",
              "      <td>0</td>\n",
              "      <td>Vovk, Mr. Janko</td>\n",
              "      <td>male</td>\n",
              "      <td>22.0</td>\n",
              "      <td>0</td>\n",
              "      <td>0</td>\n",
              "      <td>349252</td>\n",
              "      <td>7.8958</td>\n",
              "      <td>NaN</td>\n",
              "      <td>S</td>\n",
              "      <td>NaN</td>\n",
              "    </tr>\n",
              "    <tr>\n",
              "      <th>4</th>\n",
              "      <td>3</td>\n",
              "      <td>0</td>\n",
              "      <td>de Pelsmaeker, Mr. Alfons</td>\n",
              "      <td>male</td>\n",
              "      <td>16.0</td>\n",
              "      <td>0</td>\n",
              "      <td>0</td>\n",
              "      <td>345778</td>\n",
              "      <td>9.5000</td>\n",
              "      <td>NaN</td>\n",
              "      <td>S</td>\n",
              "      <td>NaN</td>\n",
              "    </tr>\n",
              "  </tbody>\n",
              "</table>\n",
              "</div>\n",
              "    <div class=\"colab-df-buttons\">\n",
              "\n",
              "  <div class=\"colab-df-container\">\n",
              "    <button class=\"colab-df-convert\" onclick=\"convertToInteractive('df-d5d1f6b2-4bd0-4f99-af5f-05073ca41033')\"\n",
              "            title=\"Convert this dataframe to an interactive table.\"\n",
              "            style=\"display:none;\">\n",
              "\n",
              "  <svg xmlns=\"http://www.w3.org/2000/svg\" height=\"24px\" viewBox=\"0 -960 960 960\">\n",
              "    <path d=\"M120-120v-720h720v720H120Zm60-500h600v-160H180v160Zm220 220h160v-160H400v160Zm0 220h160v-160H400v160ZM180-400h160v-160H180v160Zm440 0h160v-160H620v160ZM180-180h160v-160H180v160Zm440 0h160v-160H620v160Z\"/>\n",
              "  </svg>\n",
              "    </button>\n",
              "\n",
              "  <style>\n",
              "    .colab-df-container {\n",
              "      display:flex;\n",
              "      gap: 12px;\n",
              "    }\n",
              "\n",
              "    .colab-df-convert {\n",
              "      background-color: #E8F0FE;\n",
              "      border: none;\n",
              "      border-radius: 50%;\n",
              "      cursor: pointer;\n",
              "      display: none;\n",
              "      fill: #1967D2;\n",
              "      height: 32px;\n",
              "      padding: 0 0 0 0;\n",
              "      width: 32px;\n",
              "    }\n",
              "\n",
              "    .colab-df-convert:hover {\n",
              "      background-color: #E2EBFA;\n",
              "      box-shadow: 0px 1px 2px rgba(60, 64, 67, 0.3), 0px 1px 3px 1px rgba(60, 64, 67, 0.15);\n",
              "      fill: #174EA6;\n",
              "    }\n",
              "\n",
              "    .colab-df-buttons div {\n",
              "      margin-bottom: 4px;\n",
              "    }\n",
              "\n",
              "    [theme=dark] .colab-df-convert {\n",
              "      background-color: #3B4455;\n",
              "      fill: #D2E3FC;\n",
              "    }\n",
              "\n",
              "    [theme=dark] .colab-df-convert:hover {\n",
              "      background-color: #434B5C;\n",
              "      box-shadow: 0px 1px 3px 1px rgba(0, 0, 0, 0.15);\n",
              "      filter: drop-shadow(0px 1px 2px rgba(0, 0, 0, 0.3));\n",
              "      fill: #FFFFFF;\n",
              "    }\n",
              "  </style>\n",
              "\n",
              "    <script>\n",
              "      const buttonEl =\n",
              "        document.querySelector('#df-d5d1f6b2-4bd0-4f99-af5f-05073ca41033 button.colab-df-convert');\n",
              "      buttonEl.style.display =\n",
              "        google.colab.kernel.accessAllowed ? 'block' : 'none';\n",
              "\n",
              "      async function convertToInteractive(key) {\n",
              "        const element = document.querySelector('#df-d5d1f6b2-4bd0-4f99-af5f-05073ca41033');\n",
              "        const dataTable =\n",
              "          await google.colab.kernel.invokeFunction('convertToInteractive',\n",
              "                                                    [key], {});\n",
              "        if (!dataTable) return;\n",
              "\n",
              "        const docLinkHtml = 'Like what you see? Visit the ' +\n",
              "          '<a target=\"_blank\" href=https://colab.research.google.com/notebooks/data_table.ipynb>data table notebook</a>'\n",
              "          + ' to learn more about interactive tables.';\n",
              "        element.innerHTML = '';\n",
              "        dataTable['output_type'] = 'display_data';\n",
              "        await google.colab.output.renderOutput(dataTable, element);\n",
              "        const docLink = document.createElement('div');\n",
              "        docLink.innerHTML = docLinkHtml;\n",
              "        element.appendChild(docLink);\n",
              "      }\n",
              "    </script>\n",
              "  </div>\n",
              "\n",
              "\n",
              "<div id=\"df-d3a7bee6-bedb-4101-bf3a-f07732a2514a\">\n",
              "  <button class=\"colab-df-quickchart\" onclick=\"quickchart('df-d3a7bee6-bedb-4101-bf3a-f07732a2514a')\"\n",
              "            title=\"Suggest charts.\"\n",
              "            style=\"display:none;\">\n",
              "\n",
              "<svg xmlns=\"http://www.w3.org/2000/svg\" height=\"24px\"viewBox=\"0 0 24 24\"\n",
              "     width=\"24px\">\n",
              "    <g>\n",
              "        <path d=\"M19 3H5c-1.1 0-2 .9-2 2v14c0 1.1.9 2 2 2h14c1.1 0 2-.9 2-2V5c0-1.1-.9-2-2-2zM9 17H7v-7h2v7zm4 0h-2V7h2v10zm4 0h-2v-4h2v4z\"/>\n",
              "    </g>\n",
              "</svg>\n",
              "  </button>\n",
              "\n",
              "<style>\n",
              "  .colab-df-quickchart {\n",
              "      --bg-color: #E8F0FE;\n",
              "      --fill-color: #1967D2;\n",
              "      --hover-bg-color: #E2EBFA;\n",
              "      --hover-fill-color: #174EA6;\n",
              "      --disabled-fill-color: #AAA;\n",
              "      --disabled-bg-color: #DDD;\n",
              "  }\n",
              "\n",
              "  [theme=dark] .colab-df-quickchart {\n",
              "      --bg-color: #3B4455;\n",
              "      --fill-color: #D2E3FC;\n",
              "      --hover-bg-color: #434B5C;\n",
              "      --hover-fill-color: #FFFFFF;\n",
              "      --disabled-bg-color: #3B4455;\n",
              "      --disabled-fill-color: #666;\n",
              "  }\n",
              "\n",
              "  .colab-df-quickchart {\n",
              "    background-color: var(--bg-color);\n",
              "    border: none;\n",
              "    border-radius: 50%;\n",
              "    cursor: pointer;\n",
              "    display: none;\n",
              "    fill: var(--fill-color);\n",
              "    height: 32px;\n",
              "    padding: 0;\n",
              "    width: 32px;\n",
              "  }\n",
              "\n",
              "  .colab-df-quickchart:hover {\n",
              "    background-color: var(--hover-bg-color);\n",
              "    box-shadow: 0 1px 2px rgba(60, 64, 67, 0.3), 0 1px 3px 1px rgba(60, 64, 67, 0.15);\n",
              "    fill: var(--button-hover-fill-color);\n",
              "  }\n",
              "\n",
              "  .colab-df-quickchart-complete:disabled,\n",
              "  .colab-df-quickchart-complete:disabled:hover {\n",
              "    background-color: var(--disabled-bg-color);\n",
              "    fill: var(--disabled-fill-color);\n",
              "    box-shadow: none;\n",
              "  }\n",
              "\n",
              "  .colab-df-spinner {\n",
              "    border: 2px solid var(--fill-color);\n",
              "    border-color: transparent;\n",
              "    border-bottom-color: var(--fill-color);\n",
              "    animation:\n",
              "      spin 1s steps(1) infinite;\n",
              "  }\n",
              "\n",
              "  @keyframes spin {\n",
              "    0% {\n",
              "      border-color: transparent;\n",
              "      border-bottom-color: var(--fill-color);\n",
              "      border-left-color: var(--fill-color);\n",
              "    }\n",
              "    20% {\n",
              "      border-color: transparent;\n",
              "      border-left-color: var(--fill-color);\n",
              "      border-top-color: var(--fill-color);\n",
              "    }\n",
              "    30% {\n",
              "      border-color: transparent;\n",
              "      border-left-color: var(--fill-color);\n",
              "      border-top-color: var(--fill-color);\n",
              "      border-right-color: var(--fill-color);\n",
              "    }\n",
              "    40% {\n",
              "      border-color: transparent;\n",
              "      border-right-color: var(--fill-color);\n",
              "      border-top-color: var(--fill-color);\n",
              "    }\n",
              "    60% {\n",
              "      border-color: transparent;\n",
              "      border-right-color: var(--fill-color);\n",
              "    }\n",
              "    80% {\n",
              "      border-color: transparent;\n",
              "      border-right-color: var(--fill-color);\n",
              "      border-bottom-color: var(--fill-color);\n",
              "    }\n",
              "    90% {\n",
              "      border-color: transparent;\n",
              "      border-bottom-color: var(--fill-color);\n",
              "    }\n",
              "  }\n",
              "</style>\n",
              "\n",
              "  <script>\n",
              "    async function quickchart(key) {\n",
              "      const quickchartButtonEl =\n",
              "        document.querySelector('#' + key + ' button');\n",
              "      quickchartButtonEl.disabled = true;  // To prevent multiple clicks.\n",
              "      quickchartButtonEl.classList.add('colab-df-spinner');\n",
              "      try {\n",
              "        const charts = await google.colab.kernel.invokeFunction(\n",
              "            'suggestCharts', [key], {});\n",
              "      } catch (error) {\n",
              "        console.error('Error during call to suggestCharts:', error);\n",
              "      }\n",
              "      quickchartButtonEl.classList.remove('colab-df-spinner');\n",
              "      quickchartButtonEl.classList.add('colab-df-quickchart-complete');\n",
              "    }\n",
              "    (() => {\n",
              "      let quickchartButtonEl =\n",
              "        document.querySelector('#df-d3a7bee6-bedb-4101-bf3a-f07732a2514a button');\n",
              "      quickchartButtonEl.style.display =\n",
              "        google.colab.kernel.accessAllowed ? 'block' : 'none';\n",
              "    })();\n",
              "  </script>\n",
              "</div>\n",
              "    </div>\n",
              "  </div>\n"
            ]
          },
          "metadata": {},
          "execution_count": 5
        }
      ]
    },
    {
      "cell_type": "markdown",
      "metadata": {
        "id": "KY4ZYwUuUNwx"
      },
      "source": [
        "Find the number of missing values in the <code>age</code> column:"
      ]
    },
    {
      "cell_type": "code",
      "execution_count": null,
      "metadata": {
        "id": "Ii5ITpGJUShn"
      },
      "outputs": [],
      "source": [
        "# < ENTER YOUR CODE HERE >"
      ]
    },
    {
      "cell_type": "markdown",
      "metadata": {
        "id": "gOqnpfJkU6Ll"
      },
      "source": [
        "Calculate the proportion of survivors."
      ]
    },
    {
      "cell_type": "code",
      "execution_count": null,
      "metadata": {
        "id": "dHdTN-odVAIb"
      },
      "outputs": [],
      "source": [
        "# < ENTER YOUR CODE HERE >"
      ]
    },
    {
      "cell_type": "markdown",
      "metadata": {
        "id": "MJS0wozuVoWt"
      },
      "source": [
        "Determine the proportion of missing values within each feature and get rid of those features where the proportion of missing values is greater than a third. Also delete the column <code>ticket</code> as this information is unlikely to be useful."
      ]
    },
    {
      "cell_type": "code",
      "execution_count": null,
      "metadata": {
        "id": "43ptqUREVz-t"
      },
      "outputs": [],
      "source": [
        "# < ENTER YOUR CODE HERE >"
      ]
    },
    {
      "cell_type": "markdown",
      "metadata": {
        "id": "5Porb6vGmpke"
      },
      "source": [
        "From the dataset description, you can see that the columns <code>sibsp</code> and <code>parch</code> are essentially responsible for family size. Replace these two columns with the <code>fam_size</code> column, whose values will be calculated as the sum of the corresponding values in the columns <code>sibsp</code> and <code>parch</code>."
      ]
    },
    {
      "cell_type": "code",
      "execution_count": null,
      "metadata": {
        "id": "knvpyHMrm4f-"
      },
      "outputs": [],
      "source": [
        "# < ENTER YOUR CODE HERE >"
      ]
    },
    {
      "cell_type": "markdown",
      "metadata": {
        "id": "X9Cmdl5fmyoi"
      },
      "source": [
        "The resulting dataset will be called **INITIAL** (the features discarded at this stage do not need to be returned at any of the subsequent stages of the task)."
      ]
    },
    {
      "cell_type": "code",
      "execution_count": null,
      "metadata": {
        "id": "XdpdKkEBUT52"
      },
      "outputs": [],
      "source": [
        "# < ENTER YOUR CODE HERE >"
      ]
    },
    {
      "cell_type": "markdown",
      "metadata": {
        "id": "wQOvPyj8Vx00"
      },
      "source": [
        "Based on available statistics, estimate the probability of survival if the passenger is a member of the particular category (this category is pecified in your individual assignment)."
      ]
    },
    {
      "cell_type": "code",
      "execution_count": null,
      "metadata": {
        "id": "hFpZp4LaeS9Q"
      },
      "outputs": [],
      "source": [
        "# < ENTER YOUR CODE HERE >"
      ]
    },
    {
      "cell_type": "markdown",
      "metadata": {
        "id": "sXxprQtFhSy4"
      },
      "source": [
        "Construct histograms of survivors and non-survivors by age."
      ]
    },
    {
      "cell_type": "code",
      "execution_count": null,
      "metadata": {
        "id": "K3wHT2Uzr3nb"
      },
      "outputs": [],
      "source": [
        "# < ENTER YOUR CODE HERE >"
      ]
    },
    {
      "cell_type": "markdown",
      "metadata": {
        "id": "u_bO7O9v0ovG"
      },
      "source": [
        "# Model based on numerical features"
      ]
    },
    {
      "cell_type": "markdown",
      "metadata": {
        "id": "VJPhFX8M38SF"
      },
      "source": [
        "## Removing rows with missing values"
      ]
    },
    {
      "cell_type": "markdown",
      "metadata": {
        "id": "kAO1Bd2Q0qZr"
      },
      "source": [
        "As a base model, it makes sense to build a model with minimal effort.\n",
        "\n",
        "From the initial dataset, remove all categorical features as well as rows containing missing values.\n",
        "\n",
        "Use <code>train_test_split()</code> to split the dataset into training and test samples <b>with the parameters specified in your individual assigment</b>. Use stratification by column <code>survived</code>.\n",
        "\n",
        "Train <code>LogisticRegression()</code> model (<b>with the parameters specified in your individual assigment</b>) on training dataset, and evaluate the model on test dataset.\n",
        "\n",
        "Compute <code>f1_score()</code> of the model on the test dataset (we recommend using <a href=\"https://scikit-learn.org/stable/modules/generated/sklearn.metrics.f1_score.html\">the corresponding function</a> with default parameters)."
      ]
    },
    {
      "cell_type": "code",
      "execution_count": null,
      "metadata": {
        "id": "8JJ6qQT618Uz"
      },
      "outputs": [],
      "source": [
        "# < ENTER YOUR CODE HERE >"
      ]
    },
    {
      "cell_type": "markdown",
      "metadata": {
        "id": "UL6H4BxE3y-f"
      },
      "source": [
        "## Filling missing values with the mean"
      ]
    },
    {
      "cell_type": "markdown",
      "metadata": {
        "id": "vD6NntW04OJF"
      },
      "source": [
        "The quality of the resulting model leaves much to be desired. It makes sense to try to fill the missing values. Remove categorical features from the initial dataset, and fill missing values with the mean value of the column. The following steps are similar: splitting, training, evaluation.\n",
        "\n",
        "Compute <code>f1_score()</code> of the model on the test dataset."
      ]
    },
    {
      "cell_type": "code",
      "execution_count": null,
      "metadata": {
        "id": "zMYFLiWZ4Gw-"
      },
      "outputs": [],
      "source": [
        "# < ENTER YOUR CODE HERE >"
      ]
    },
    {
      "cell_type": "markdown",
      "metadata": {
        "id": "dxuJDvb1_p_e"
      },
      "source": [
        "## Filling missing values based on honorifics"
      ]
    },
    {
      "cell_type": "markdown",
      "metadata": {
        "id": "9ew5okxzKdLh"
      },
      "source": [
        "Obviously, filling missing values in the <code>age</code> column with mean is not the smartest idea. Perhaps you should perform this procedure somehow more intelligently, for example, with an eye on appealing to the person.\n",
        "\n",
        "You can notice that the initial dataset in the column contains information about the social status of the passenger, namely, there are appeals <code>Mr., Mrs., Dr.</code>, etc. Based on this information, we can try to make an assumption about the passenger's age.\n",
        "\n",
        "Put the column <code>name</code> back into consideration. Create a separate <code>honorific</code> column and put the appeal values there.\n",
        "\n",
        "Calculate the number of unique appeals."
      ]
    },
    {
      "cell_type": "code",
      "execution_count": null,
      "metadata": {
        "id": "fMbYRoa-DArO"
      },
      "outputs": [],
      "source": [
        "# < ENTER YOUR CODE HERE >"
      ]
    },
    {
      "cell_type": "markdown",
      "metadata": {
        "id": "6HNMeGu9GJWN"
      },
      "source": [
        "Most likely, it makes sense to reduce the number of appeals, adding small groups to the more numerous ones, as there seems to be no fundamental difference between, for example, <code>Don</code> and <code>Mr</code>. Note that <code>Master</code> is a former appeal to a child, we will work with this appeal separately.\n",
        "\n",
        "\n",
        "\n",
        "\n",
        "Make the following substitutions:\n",
        "\n",
        "<code>Mr</code> $\\leftarrow$ <code>['Rev', 'Col', 'Dr', 'Major', 'Don', 'Capt']</code>\n",
        "\n",
        "<code>Mrs</code> $\\leftarrow$ <code> ['Dona', 'Countess']</code>\n",
        "\n",
        "<code>Miss</code> $\\leftarrow$ <code> ['Mlle', 'Ms']</code>"
      ]
    },
    {
      "cell_type": "code",
      "execution_count": null,
      "metadata": {
        "id": "jiQBH3_8G0SF"
      },
      "outputs": [],
      "source": [
        "# < ENTER YOUR CODE HERE >"
      ]
    },
    {
      "cell_type": "markdown",
      "metadata": {
        "id": "qh-KpfttKxYD"
      },
      "source": [
        "Calculate the proportion of rows with the <code>Master</code> value relative to the number of all males."
      ]
    },
    {
      "cell_type": "code",
      "execution_count": null,
      "metadata": {
        "id": "2g2fHrAGK_CA"
      },
      "outputs": [],
      "source": [
        "# < ENTER YOUR CODE HERE >"
      ]
    },
    {
      "cell_type": "markdown",
      "metadata": {
        "id": "XD7hs0k7L77K"
      },
      "source": [
        "Calculate the average age of the category specified in your individual assigment."
      ]
    },
    {
      "cell_type": "code",
      "execution_count": null,
      "metadata": {
        "id": "stKBPTCQMGlf"
      },
      "outputs": [],
      "source": [
        "# < ENTER YOUR CODE HERE >"
      ]
    },
    {
      "cell_type": "markdown",
      "metadata": {
        "id": "cQ4Z0tKNLk_B"
      },
      "source": [
        "Fill the missing values in the column <code>age</code> with the mean corresponding to the mean of the <code>honorific</code> category.\n",
        "\n",
        "Get rid of non-numeric features. Next steps are similar: splitting, training, evaluation.\n",
        "\n",
        "Compute <code>f1_score()</code> of the model on the test dataset."
      ]
    },
    {
      "cell_type": "code",
      "execution_count": null,
      "metadata": {
        "id": "B5c_i_6HN3aA"
      },
      "outputs": [],
      "source": [
        "# < ENTER YOUR CODE HERE >"
      ]
    },
    {
      "cell_type": "markdown",
      "metadata": {
        "id": "YGCBn1fiSbjG"
      },
      "source": [
        "# Model that uses categorical features"
      ]
    },
    {
      "cell_type": "markdown",
      "metadata": {
        "id": "BlILajPNTMgL"
      },
      "source": [
        "In the original dataset, fill the missing values in the column <code>age</code> with values based on the appeals (as in the previous step).\n",
        "\n",
        "After that, drop the features <code>name</code> and <code>honorific</code>. They have fulfilled their function.\n",
        "\n",
        "Perform <code>one-hot</code> encoding of the non-numeric features, for example, with <code>pd.get_dummies(drop_first=True)</code>. Then follow the familiar pattern: split, train, evaluate.\n",
        "\n",
        "Compute <code>f1_score()</code> of the model on the test dataset."
      ]
    },
    {
      "cell_type": "code",
      "execution_count": null,
      "metadata": {
        "id": "AiRm3GIdUsVt"
      },
      "outputs": [],
      "source": [
        "# < ENTER YOUR CODE HERE >"
      ]
    }
  ]
}